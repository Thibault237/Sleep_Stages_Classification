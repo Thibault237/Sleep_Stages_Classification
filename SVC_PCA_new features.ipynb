{
 "cells": [
  {
   "cell_type": "code",
   "execution_count": 1,
   "metadata": {},
   "outputs": [],
   "source": [
    "import numpy as np\n",
    "import matplotlib.pyplot as plt\n",
    "import h5py\n",
    "import pandas as pd\n",
    "from scipy import signal as sg\n",
    "from Visualizer import Visualizer\n",
    "from FeatureManager import FeatureManager\n",
    "from sklearn.pipeline import Pipeline\n",
    "from sklearn.preprocessing import StandardScaler\n",
    "from sklearn import svm\n",
    "from sklearn.metrics import f1_score\n",
    "from sklearn.model_selection import GridSearchCV\n",
    "from sklearn.model_selection import cross_val_score\n",
    "from sklearn.model_selection import train_test_split\n",
    "from sklearn.decomposition import PCA\n",
    "from tempfile import mkdtemp\n",
    "from shutil import rmtree\n",
    "from sklearn.externals.joblib import Memory\n",
    "import pickle\n",
    "\n",
    "%matplotlib inline"
   ]
  },
  {
   "cell_type": "markdown",
   "metadata": {},
   "source": [
    "### Obtention des données, features et labels"
   ]
  },
  {
   "cell_type": "code",
   "execution_count": 2,
   "metadata": {},
   "outputs": [],
   "source": [
    "feat = FeatureManager()\n",
    "#feat.get_all_esis()\n",
    "#feat.get_all_minmax()\n",
    "#feat.get_argmax_tf('pulse_oximeter_infrared')\n",
    "#feat.get_all_time_Hjorth('activity',excepted=['pulse_oximeter_infrared','accelerometer_x','accelerometer_y','accelerometer_z'])\n",
    "#feat.get_all_time_Hjorth('mobility',excepted=['pulse_oximeter_infrared','accelerometer_x','accelerometer_y','accelerometer_z'])\n",
    "#feat.get_all_time_Hjorth('complexity',excepted=['pulse_oximeter_infrared','accelerometer_x','accelerometer_y','accelerometer_z'])\n",
    "#feat.get_all_freq_Hjorth('mean',excepted=['pulse_oximeter_infrared','accelerometer_x','accelerometer_y','accelerometer_z'])\n",
    "#feat.get_all_freq_Hjorth('std',excepted=['pulse_oximeter_infrared','accelerometer_x','accelerometer_y','accelerometer_z'])\n",
    "feat.get_labels()"
   ]
  },
  {
   "cell_type": "code",
   "execution_count": 3,
   "metadata": {},
   "outputs": [],
   "source": [
    "file = open('Results/features_df.pickle','rb')\n",
    "features_df = pickle.load(file)\n",
    "file.close()"
   ]
  },
  {
   "cell_type": "code",
   "execution_count": 27,
   "metadata": {},
   "outputs": [
    {
     "data": {
      "text/plain": [
       "(38289, 92)"
      ]
     },
     "execution_count": 27,
     "metadata": {},
     "output_type": "execute_result"
    }
   ],
   "source": [
    "feat.data.shape"
   ]
  },
  {
   "cell_type": "markdown",
   "metadata": {},
   "source": [
    "### Train test split"
   ]
  },
  {
   "cell_type": "code",
   "execution_count": 4,
   "metadata": {},
   "outputs": [],
   "source": [
    "X_train, X_test, y_train, y_test = train_test_split(features_df,feat.labels, test_size=0.3)"
   ]
  },
  {
   "cell_type": "markdown",
   "metadata": {},
   "source": [
    "### Scaling & svm"
   ]
  },
  {
   "cell_type": "markdown",
   "metadata": {},
   "source": [
    "#### Memory"
   ]
  },
  {
   "cell_type": "code",
   "execution_count": 4,
   "metadata": {},
   "outputs": [],
   "source": [
    "cachedir = mkdtemp()\n",
    "memory = Memory(cachedir=cachedir, verbose=10)"
   ]
  },
  {
   "cell_type": "code",
   "execution_count": 5,
   "metadata": {},
   "outputs": [],
   "source": [
    "pipeline = Pipeline([('scaler',StandardScaler()),('pca',PCA())\\\n",
    "                     ,('svm',svm.SVC(kernel='rbf',class_weight='balanced',C=10,gamma=6,decision_function_shape='ovr',verbose=True))]\\\n",
    "                   ,memory=memory)"
   ]
  },
  {
   "cell_type": "markdown",
   "metadata": {},
   "source": [
    "### Fit & test"
   ]
  },
  {
   "cell_type": "code",
   "execution_count": null,
   "metadata": {
    "scrolled": true
   },
   "outputs": [
    {
     "name": "stdout",
     "output_type": "stream",
     "text": [
      "________________________________________________________________________________\n",
      "[Memory] Calling sklearn.pipeline._fit_transform_one...\n",
      "_fit_transform_one(StandardScaler(copy=True, with_mean=True, with_std=True), None,        esis alpha eeg_1  esis alpha eeg_2  esis alpha eeg_3  esis alpha eeg_4  \\\n",
      "38149      1.645997e+07      4.072828e+07      1.145500e+07      1.226489e+08   \n",
      "10852      5.023313e+06      9.921479e+06      4.366552e+06      3.001176e+07   \n",
      "25970      1.047674e+07      1.961525e+07      8.492807e+06      1.090926e+08   \n",
      "25644      4.352397e+06      8.196890e+06      3.665243e+06      3.384170e+07   \n",
      "22089      3.587898e+07      7.156218e+06      3.150458e+07      9.196406e+07   \n",
      "15246      4.449893e+06      5.562772e+06      3.273412e+06      1.255859e+07   \n",
      "20147      8.563359e+06      1.544841e+07      5.662264e+06      9.473529e+07   \n",
      "26924      3.240536e+06      4.086798e+06      3.073..., \n",
      "id\n",
      "38149    3\n",
      "10852    3\n",
      "25970    0\n",
      "25644    2\n",
      "22089    4\n",
      "15246    2\n",
      "20147    4\n",
      "26924    4\n",
      "34362    4\n",
      "13732    4\n",
      "31748    0\n",
      "32039    4\n",
      "37312    2\n",
      "29903    0\n",
      "23777    2\n",
      "23073    4\n",
      "21068    4\n",
      "33555    3\n",
      "20688    2\n",
      "30216    4\n",
      "4421     0\n",
      "37715    2\n",
      "20970    0\n",
      "27846    4\n",
      "20475    4\n",
      "25744    4\n",
      "16475    3\n",
      "18963    2\n",
      "30586    2\n",
      "32166    3\n",
      "        ..\n",
      "23127    4\n",
      "17986    2\n",
      "37119    2\n",
      "15121    0\n",
      "32073    3\n",
      "22071    3\n",
      "12755    2\n",
      "25195    2\n",
      "10500    0\n",
      "11679    2\n",
      "23894    4\n",
      "37818    0\n",
      "5628     2\n",
      "13873    4\n",
      "30342    2\n",
      "27409    2\n",
      "27113    2\n",
      "21211    0\n",
      "18817    2\n",
      "1620     1\n",
      "17427    3\n",
      "19011    0\n",
      "22109    4\n",
      "15335    4\n",
      "5126     2\n",
      "31333    2\n",
      "19051    2\n",
      "37779    2\n",
      "29064    1\n",
      "26961    4\n",
      "Name: sleep_stage, Length: 26802, dtype: int64)\n",
      "________________________________________________fit_transform_one - 0.2s, 0.0min\n",
      "________________________________________________________________________________\n",
      "[Memory] Calling sklearn.pipeline._fit_transform_one...\n",
      "_fit_transform_one(PCA(copy=True, iterated_power='auto', n_components=None, random_state=None,\n",
      "  svd_solver='auto', tol=0.0, whiten=False), \n",
      "None, array([[-0.024082, ..., -0.067984],\n",
      "       ...,\n",
      "       [-0.024082, ..., -0.072973]]), \n",
      "id\n",
      "38149    3\n",
      "10852    3\n",
      "25970    0\n",
      "25644    2\n",
      "22089    4\n",
      "15246    2\n",
      "20147    4\n",
      "26924    4\n",
      "34362    4\n",
      "13732    4\n",
      "31748    0\n",
      "32039    4\n",
      "37312    2\n",
      "29903    0\n",
      "23777    2\n",
      "23073    4\n",
      "21068    4\n",
      "33555    3\n",
      "20688    2\n",
      "30216    4\n",
      "4421     0\n",
      "37715    2\n",
      "20970    0\n",
      "27846    4\n",
      "20475    4\n",
      "25744    4\n",
      "16475    3\n",
      "18963    2\n",
      "30586    2\n",
      "32166    3\n",
      "        ..\n",
      "23127    4\n",
      "17986    2\n",
      "37119    2\n",
      "15121    0\n",
      "32073    3\n",
      "22071    3\n",
      "12755    2\n",
      "25195    2\n",
      "10500    0\n",
      "11679    2\n",
      "23894    4\n",
      "37818    0\n",
      "5628     2\n",
      "13873    4\n",
      "30342    2\n",
      "27409    2\n",
      "27113    2\n",
      "21211    0\n",
      "18817    2\n",
      "1620     1\n",
      "17427    3\n",
      "19011    0\n",
      "22109    4\n",
      "15335    4\n",
      "5126     2\n",
      "31333    2\n",
      "19051    2\n",
      "37779    2\n",
      "29064    1\n",
      "26961    4\n",
      "Name: sleep_stage, Length: 26802, dtype: int64)\n",
      "________________________________________________fit_transform_one - 0.3s, 0.0min\n",
      "[LibSVM]"
     ]
    }
   ],
   "source": [
    "pipeline.fit(X_train,y_train)"
   ]
  },
  {
   "cell_type": "code",
   "execution_count": 25,
   "metadata": {},
   "outputs": [],
   "source": [
    "y_pred_test = pipeline.predict(X_test)"
   ]
  },
  {
   "cell_type": "code",
   "execution_count": 26,
   "metadata": {},
   "outputs": [
    {
     "name": "stdout",
     "output_type": "stream",
     "text": [
      "0.2581238622505673\n"
     ]
    }
   ],
   "source": [
    "print(f1_score(y_test,y_pred_test,average='macro'))"
   ]
  },
  {
   "cell_type": "markdown",
   "metadata": {},
   "source": [
    "### Grid Search"
   ]
  },
  {
   "cell_type": "code",
   "execution_count": 6,
   "metadata": {},
   "outputs": [],
   "source": [
    "paramGrid={'pca__n_components':np.arange(5,20)}"
   ]
  },
  {
   "cell_type": "code",
   "execution_count": 7,
   "metadata": {},
   "outputs": [],
   "source": [
    "grid = GridSearchCV(pipeline,paramGrid,cv=3,scoring='f1_macro')"
   ]
  },
  {
   "cell_type": "code",
   "execution_count": null,
   "metadata": {},
   "outputs": [
    {
     "name": "stdout",
     "output_type": "stream",
     "text": [
      "________________________________________________________________________________\n",
      "[Memory] Calling sklearn.pipeline._fit_transform_one...\n",
      "_fit_transform_one(StandardScaler(copy=True, with_mean=True, with_std=True), None,        esis alpha eeg_1  esis alpha eeg_2  esis alpha eeg_3  esis alpha eeg_4  \\\n",
      "12419      1.920279e+06      3.562400e+06      2.951758e+06      1.046340e+07   \n",
      "12420      2.922446e+10      2.849931e+10      9.148503e+08      5.392722e+14   \n",
      "12422      2.570998e+06      6.454411e+06      3.690224e+06      2.978813e+07   \n",
      "12423      1.372674e+07      1.573976e+07      6.170383e+06      6.454161e+07   \n",
      "12428      2.634718e+06      3.907489e+06      2.954893e+06      1.786511e+07   \n",
      "12434      3.429428e+06      4.846539e+06      3.416694e+06      1.592699e+07   \n",
      "12436      2.797656e+06      2.665974e+06      2.840865e+06      1.616888e+07   \n",
      "12438      8.571367e+07      2.305022e+08      1.406..., \n",
      "id\n",
      "12419    4\n",
      "12420    4\n",
      "12422    4\n",
      "12423    4\n",
      "12428    4\n",
      "12434    4\n",
      "12436    4\n",
      "12438    4\n",
      "12439    4\n",
      "12440    4\n",
      "12441    4\n",
      "12444    4\n",
      "12445    4\n",
      "12446    4\n",
      "12448    4\n",
      "12453    4\n",
      "12454    4\n",
      "12455    4\n",
      "12462    4\n",
      "12463    4\n",
      "12465    4\n",
      "12468    4\n",
      "12469    4\n",
      "12471    4\n",
      "12487    4\n",
      "12488    4\n",
      "12493    4\n",
      "12495    4\n",
      "12499    4\n",
      "12501    4\n",
      "        ..\n",
      "38259    2\n",
      "38260    4\n",
      "38261    0\n",
      "38262    4\n",
      "38263    2\n",
      "38264    4\n",
      "38265    2\n",
      "38266    4\n",
      "38267    2\n",
      "38268    4\n",
      "38269    2\n",
      "38270    0\n",
      "38271    2\n",
      "38272    2\n",
      "38273    2\n",
      "38274    3\n",
      "38275    4\n",
      "38276    2\n",
      "38277    0\n",
      "38278    2\n",
      "38279    4\n",
      "38280    1\n",
      "38281    2\n",
      "38282    2\n",
      "38283    4\n",
      "38284    2\n",
      "38285    4\n",
      "38286    4\n",
      "38287    2\n",
      "38288    3\n",
      "Name: sleep_stage, Length: 25524, dtype: int64)\n",
      "________________________________________________fit_transform_one - 0.2s, 0.0min\n",
      "________________________________________________________________________________\n",
      "[Memory] Calling sklearn.pipeline._fit_transform_one...\n",
      "_fit_transform_one(PCA(copy=True, iterated_power='auto', n_components=5, random_state=None,\n",
      "  svd_solver='auto', tol=0.0, whiten=False), \n",
      "None, array([[-0.025394, ..., -0.076752],\n",
      "       ...,\n",
      "       [-0.025394, ..., -0.072279]]), \n",
      "id\n",
      "12419    4\n",
      "12420    4\n",
      "12422    4\n",
      "12423    4\n",
      "12428    4\n",
      "12434    4\n",
      "12436    4\n",
      "12438    4\n",
      "12439    4\n",
      "12440    4\n",
      "12441    4\n",
      "12444    4\n",
      "12445    4\n",
      "12446    4\n",
      "12448    4\n",
      "12453    4\n",
      "12454    4\n",
      "12455    4\n",
      "12462    4\n",
      "12463    4\n",
      "12465    4\n",
      "12468    4\n",
      "12469    4\n",
      "12471    4\n",
      "12487    4\n",
      "12488    4\n",
      "12493    4\n",
      "12495    4\n",
      "12499    4\n",
      "12501    4\n",
      "        ..\n",
      "38259    2\n",
      "38260    4\n",
      "38261    0\n",
      "38262    4\n",
      "38263    2\n",
      "38264    4\n",
      "38265    2\n",
      "38266    4\n",
      "38267    2\n",
      "38268    4\n",
      "38269    2\n",
      "38270    0\n",
      "38271    2\n",
      "38272    2\n",
      "38273    2\n",
      "38274    3\n",
      "38275    4\n",
      "38276    2\n",
      "38277    0\n",
      "38278    2\n",
      "38279    4\n",
      "38280    1\n",
      "38281    2\n",
      "38282    2\n",
      "38283    4\n",
      "38284    2\n",
      "38285    4\n",
      "38286    4\n",
      "38287    2\n",
      "38288    3\n",
      "Name: sleep_stage, Length: 25524, dtype: int64)\n",
      "________________________________________________fit_transform_one - 0.2s, 0.0min\n",
      "[LibSVM]"
     ]
    }
   ],
   "source": [
    "grid.fit(features_df,feat.labels)"
   ]
  },
  {
   "cell_type": "markdown",
   "metadata": {},
   "source": [
    "#### Deleting cache"
   ]
  },
  {
   "cell_type": "code",
   "execution_count": null,
   "metadata": {},
   "outputs": [],
   "source": [
    "rmtree(cachedir)"
   ]
  },
  {
   "cell_type": "markdown",
   "metadata": {},
   "source": [
    "### Cross_val_score"
   ]
  },
  {
   "cell_type": "code",
   "execution_count": 10,
   "metadata": {},
   "outputs": [],
   "source": [
    "score = cross_val_score(pipeline,feat.data,feat.labels,cv=3,scoring='f1_macro')"
   ]
  },
  {
   "cell_type": "code",
   "execution_count": 11,
   "metadata": {},
   "outputs": [
    {
     "name": "stdout",
     "output_type": "stream",
     "text": [
      "[0.25591232 0.30247879 0.27913686]\n"
     ]
    }
   ],
   "source": [
    "print(score)"
   ]
  },
  {
   "cell_type": "markdown",
   "metadata": {},
   "source": [
    "### Sauvegarde de la grid"
   ]
  },
  {
   "cell_type": "code",
   "execution_count": null,
   "metadata": {},
   "outputs": [],
   "source": [
    "file = open('Results/grid.pickle','wb')\n",
    "pickle.dump(grid,file)\n",
    "file.close()"
   ]
  },
  {
   "cell_type": "markdown",
   "metadata": {},
   "source": [
    "### Base de test"
   ]
  },
  {
   "cell_type": "code",
   "execution_count": null,
   "metadata": {},
   "outputs": [],
   "source": [
    "feat_train = FeatureManager(path='Data/test.h5')\n",
    "feat_train.get_all_esis()\n",
    "feat_train.get_all_minmax()"
   ]
  },
  {
   "cell_type": "code",
   "execution_count": null,
   "metadata": {},
   "outputs": [],
   "source": [
    "pred = Pipeline.predict(feat_train.data)"
   ]
  },
  {
   "cell_type": "markdown",
   "metadata": {},
   "source": [
    "### Csv pour évaluation"
   ]
  },
  {
   "cell_type": "code",
   "execution_count": null,
   "metadata": {},
   "outputs": [],
   "source": [
    "serie = pd.Series(pred,index=pd.Index(range(len(pred)),name='id'),name='sleep_stage')\n",
    "serie.to_csv('Results/SVC_base.csv',header=True)"
   ]
  },
  {
   "cell_type": "code",
   "execution_count": null,
   "metadata": {},
   "outputs": [],
   "source": []
  }
 ],
 "metadata": {
  "kernelspec": {
   "display_name": "Python 3",
   "language": "python",
   "name": "python3"
  },
  "language_info": {
   "codemirror_mode": {
    "name": "ipython",
    "version": 3
   },
   "file_extension": ".py",
   "mimetype": "text/x-python",
   "name": "python",
   "nbconvert_exporter": "python",
   "pygments_lexer": "ipython3",
   "version": "3.7.0"
  }
 },
 "nbformat": 4,
 "nbformat_minor": 2
}
